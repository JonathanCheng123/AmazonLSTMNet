{
  "nbformat": 4,
  "nbformat_minor": 0,
  "metadata": {
    "colab": {
      "name": "Team E AmazonReview LSTMNet",
      "provenance": [],
      "collapsed_sections": [],
      "machine_shape": "hm",
      "include_colab_link": true
    },
    "kernelspec": {
      "name": "python3",
      "display_name": "Python 3"
    },
    "accelerator": "GPU"
  },
  "cells": [
    {
      "cell_type": "markdown",
      "metadata": {
        "id": "view-in-github",
        "colab_type": "text"
      },
      "source": [
        "<a href=\"https://colab.research.google.com/github/JonathanCheng123/AmazonLSTMNet/blob/main/Team_E_AmazonReview_LSTMNet.ipynb\" target=\"_parent\"><img src=\"https://colab.research.google.com/assets/colab-badge.svg\" alt=\"Open In Colab\"/></a>"
      ]
    },
    {
      "cell_type": "markdown",
      "metadata": {
        "id": "DEGDt4hrKGMu"
      },
      "source": [
        "# TEAM E - AMAZON REVIEWS\n",
        "\n",
        "In this project you work on Amazon food review from customers, and try to predict whether a review is positive or negative. \n",
        "\n",
        "**Dataset:**\n",
        "\n",
        "The dataset contains more than 500K reviews with scores given by customers, number of upvotes & total votes to those comments. The dataset has ‘Score’ label which is given by customers to each product. Scores range from 1-5. \n",
        "\n",
        "For doing a binary classification, you need to get rid of score ‘3’ reviews (neutral) and separate the remaining reviews into binary class (1 = positive, 0 = negative)\n",
        "\n",
        "**Size:** 394,375 instances\n",
        "\n",
        "**Classes:** 2 (Positive = 1 , Negative = 0 )\n",
        "\n",
        "**Class skewness:**\n",
        "\n",
        "instance belonging to Negative class: 61,625\n",
        "\n",
        "instances belonging to Positive class: 332,750\n",
        "\n",
        "**Note: Reviews are skewed towards positive.**\n"
      ]
    },
    {
      "cell_type": "code",
      "metadata": {
        "id": "VZAIm_aAJ4p2",
        "colab": {
          "base_uri": "https://localhost:8080/",
          "height": 104
        },
        "outputId": "6681c18a-5a1d-4dbe-c939-760fb1aebd32"
      },
      "source": [
        "import tensorflow as tf\n",
        "import numpy as np\n",
        "import pandas as pd\n",
        "%matplotlib inline \n",
        "import matplotlib.pyplot as plt\n",
        "import gc\n",
        "import string\n",
        "import nltk\n",
        "from nltk.stem import WordNetLemmatizer \n",
        "nltk.download('wordnet')\n",
        "import keras\n",
        "import gensim\n",
        "\n",
        "from nltk.corpus import stopwords\n",
        "nltk.download('stopwords')\n",
        "stop = set(stopwords.words('english'))\n",
        "\n",
        "from tensorflow.keras import layers\n",
        "from sklearn.feature_extraction.text import TfidfVectorizer"
      ],
      "execution_count": null,
      "outputs": [
        {
          "output_type": "stream",
          "text": [
            "[nltk_data] Downloading package wordnet to /root/nltk_data...\n",
            "[nltk_data]   Unzipping corpora/wordnet.zip.\n"
          ],
          "name": "stdout"
        },
        {
          "output_type": "stream",
          "text": [
            "Using TensorFlow backend.\n"
          ],
          "name": "stderr"
        },
        {
          "output_type": "stream",
          "text": [
            "[nltk_data] Downloading package stopwords to /root/nltk_data...\n",
            "[nltk_data]   Unzipping corpora/stopwords.zip.\n"
          ],
          "name": "stdout"
        }
      ]
    },
    {
      "cell_type": "code",
      "metadata": {
        "id": "eENmBBLELQJW",
        "colab": {
          "base_uri": "https://localhost:8080/",
          "height": 124
        },
        "outputId": "d28dc27b-3d97-4897-98ad-1763e2512f12"
      },
      "source": [
        "from google.colab import drive\n",
        "drive.mount('/content/drive')"
      ],
      "execution_count": null,
      "outputs": [
        {
          "output_type": "stream",
          "text": [
            "Go to this URL in a browser: https://accounts.google.com/o/oauth2/auth?client_id=947318989803-6bn6qk8qdgf4n4g3pfee6491hc0brc4i.apps.googleusercontent.com&redirect_uri=urn%3Aietf%3Awg%3Aoauth%3A2.0%3Aoob&scope=email%20https%3A%2F%2Fwww.googleapis.com%2Fauth%2Fdocs.test%20https%3A%2F%2Fwww.googleapis.com%2Fauth%2Fdrive%20https%3A%2F%2Fwww.googleapis.com%2Fauth%2Fdrive.photos.readonly%20https%3A%2F%2Fwww.googleapis.com%2Fauth%2Fpeopleapi.readonly&response_type=code\n",
            "\n",
            "Enter your authorization code:\n",
            "··········\n",
            "Mounted at /content/drive\n"
          ],
          "name": "stdout"
        }
      ]
    },
    {
      "cell_type": "code",
      "metadata": {
        "id": "vYp_6vnLLQzB"
      },
      "source": [
        "text = pd.read_csv(\"/content/drive/My Drive/Cosmos/train.csv\",delimiter='\\t', usecols=[10])\n",
        "scored = pd.read_csv(\"/content/drive/My Drive/Cosmos/train.csv\",delimiter='\\t', usecols=[7])\n",
        "test = pd.read_csv(\"/content/drive/My Drive/Cosmos/train.csv\",delimiter='\\t', usecols=[10])\n",
        "testscored = pd.read_csv(\"/content/drive/My Drive/Cosmos/train.csv\",delimiter='\\t', usecols=[7])"
      ],
      "execution_count": null,
      "outputs": []
    },
    {
      "cell_type": "code",
      "metadata": {
        "id": "LYF1zn9Idi0-"
      },
      "source": [
        "lemmatizer = WordNetLemmatizer()\n",
        "def preprocess(s):\n",
        "  return lemmatizer.lemmatize(s)"
      ],
      "execution_count": null,
      "outputs": []
    },
    {
      "cell_type": "code",
      "metadata": {
        "id": "sWCT_T2yIO4d"
      },
      "source": [
        "cutoff=120000\n",
        "scorecutoff=50000\n",
        "features=15000\n",
        "vocab_size = 10000\n",
        "max_length = 16952 "
      ],
      "execution_count": null,
      "outputs": []
    },
    {
      "cell_type": "code",
      "metadata": {
        "id": "6TLtwgJD0yXS"
      },
      "source": [
        "reviews=text.Text.tolist()\n",
        "testreviews = test.Text.tolist()\n",
        "score = scored.to_numpy().reshape(len(scored),1,1)\n",
        "testscore = testscored.to_numpy().reshape(len(testscored),1,1)"
      ],
      "execution_count": null,
      "outputs": []
    },
    {
      "cell_type": "code",
      "metadata": {
        "id": "HEY1W0UlWcrL"
      },
      "source": [
        "score1 = []\n",
        "reviews1=[]\n",
        "c=0\n",
        "for i in range(len(reviews)):\n",
        "  if(score[i]==0):\n",
        "    if(c<30000):\n",
        "      c += 1\n",
        "      score1.append(score[i])\n",
        "      reviews1.append(reviews[i])\n",
        "c=0    \n",
        "for i in range(len(reviews)):\n",
        "  if(score[i]==1):\n",
        "    if(c<90000):\n",
        "      c += 1\n",
        "      score1.append(score[i])\n",
        "      reviews1.append(reviews[i])\n",
        "score = score1\n",
        "reviews = reviews1"
      ],
      "execution_count": null,
      "outputs": []
    },
    {
      "cell_type": "code",
      "metadata": {
        "id": "_pC0xrX2iRjX",
        "colab": {
          "base_uri": "https://localhost:8080/",
          "height": 72
        },
        "outputId": "a26583b1-fad7-4657-8f34-9aca662a199c"
      },
      "source": [
        "vectorizer = TfidfVectorizer(stop_words=stop, analyzer = 'word',max_features=features, dtype=np.float32, preprocessor=preprocess)\n",
        "vectorizer.fit(text.Text)\n",
        "\n",
        "score = np.array(score)\n",
        "testscore = testscored.to_numpy()[0:scorecutoff].reshape(scorecutoff,1,1)\n",
        "\n",
        "X_trainv = np.array([vectorizer.transform([a]).astype('float32').toarray() for a in reviews])\n",
        "X_testv = np.array([vectorizer.transform([a]).astype('float32').toarray() for a in test.Text.tolist()[:scorecutoff]])"
      ],
      "execution_count": null,
      "outputs": [
        {
          "output_type": "stream",
          "text": [
            "/usr/local/lib/python3.6/dist-packages/sklearn/feature_extraction/text.py:300: UserWarning: Your stop_words may be inconsistent with your preprocessing. Tokenizing the stop words generated tokens ['doe', 'ha', 'wa'] not in stop_words.\n",
            "  'stop_words.' % sorted(inconsistent))\n"
          ],
          "name": "stderr"
        }
      ]
    },
    {
      "cell_type": "code",
      "metadata": {
        "id": "rFFhVP3ToW8c"
      },
      "source": [
        "X_train = np.squeeze(X_trainv)\n",
        "X_train=X_train.reshape((len(X_train),1,features))\n",
        "X_test = np.squeeze(X_testv).reshape(scorecutoff, 1, features)"
      ],
      "execution_count": null,
      "outputs": []
    },
    {
      "cell_type": "code",
      "metadata": {
        "id": "9Xs3ntFjVV3j",
        "colab": {
          "base_uri": "https://localhost:8080/",
          "height": 159
        },
        "outputId": "5b7a84ac-7aae-43d3-f8fc-265c646572f2"
      },
      "source": [
        "model = tf.keras.Sequential()\n",
        "model.add(layers.LSTM(50, input_shape=(1,15000),return_sequences = True, recurrent_regularizer=tf.keras.regularizers.l2(0.005), kernel_initializer = 'glorot_normal', activation = 'relu'))\n",
        "# model.add(layers.LSTM(64, return_sequences = True, kernel_initializer = 'glorot_normal', activation = 'relu', recurrent_regularizer=tf.keras.regularizers.l2(0.01)))\n",
        "model.add(layers.TimeDistributed(layers.Dense(16,activation='relu', kernel_regularizer=tf.keras.regularizers.l2(0.005))))\n",
        "model.add(layers.TimeDistributed(layers.Dense(32,activation='relu', kernel_regularizer=tf.keras.regularizers.l2(0.01))))\n",
        "model.add(layers.Dropout(0.5))\n",
        "model.add(layers.Dense(1,activation='sigmoid'))\n",
        "\n",
        "model.compile(loss='binary_crossentropy',metrics=['accuracy'],optimizer=tf.train.AdamOptimizer(0.0002))"
      ],
      "execution_count": null,
      "outputs": [
        {
          "output_type": "stream",
          "text": [
            "WARNING: Logging before flag parsing goes to stderr.\n",
            "W0802 20:28:52.568425 140042651363200 deprecation.py:506] From /usr/local/lib/python3.6/dist-packages/tensorflow/python/ops/init_ops.py:1288: calling VarianceScaling.__init__ (from tensorflow.python.ops.init_ops) with dtype is deprecated and will be removed in a future version.\n",
            "Instructions for updating:\n",
            "Call initializer instance with the dtype argument instead of passing it to the constructor\n",
            "W0802 20:28:52.932219 140042651363200 deprecation.py:323] From /usr/local/lib/python3.6/dist-packages/tensorflow/python/ops/nn_impl.py:180: add_dispatch_support.<locals>.wrapper (from tensorflow.python.ops.array_ops) is deprecated and will be removed in a future version.\n",
            "Instructions for updating:\n",
            "Use tf.where in 2.0, which has the same broadcast rule as np.where\n"
          ],
          "name": "stderr"
        }
      ]
    },
    {
      "cell_type": "code",
      "metadata": {
        "id": "nwGFiwMqzK0I",
        "colab": {
          "base_uri": "https://localhost:8080/",
          "height": 402
        },
        "outputId": "4b3400da-f2d6-4c25-bc21-6489b26ceb9c"
      },
      "source": [
        "model.summary()\n",
        "print (\"Inputs: {}\".format(model.input_shape))\n",
        "print (\"Outputs: {}\".format(model.output_shape))\n",
        "print (\"Actual input: {}\".format(X_train.shape))\n",
        "print (\"Actual output: {}\".format(score.shape))"
      ],
      "execution_count": null,
      "outputs": [
        {
          "output_type": "stream",
          "text": [
            "Model: \"sequential\"\n",
            "_________________________________________________________________\n",
            "Layer (type)                 Output Shape              Param #   \n",
            "=================================================================\n",
            "lstm (LSTM)                  (None, 1, 50)             3010200   \n",
            "_________________________________________________________________\n",
            "time_distributed (TimeDistri (None, 1, 16)             816       \n",
            "_________________________________________________________________\n",
            "time_distributed_1 (TimeDist (None, 1, 32)             544       \n",
            "_________________________________________________________________\n",
            "dropout (Dropout)            (None, 1, 32)             0         \n",
            "_________________________________________________________________\n",
            "dense_2 (Dense)              (None, 1, 1)              33        \n",
            "=================================================================\n",
            "Total params: 3,011,593\n",
            "Trainable params: 3,011,593\n",
            "Non-trainable params: 0\n",
            "_________________________________________________________________\n",
            "Inputs: (None, 1, 15000)\n",
            "Outputs: (None, 1, 1)\n",
            "Actual input: (120000, 1, 15000)\n",
            "Actual output: (120000, 1, 1)\n"
          ],
          "name": "stdout"
        }
      ]
    },
    {
      "cell_type": "code",
      "metadata": {
        "id": "sq8kaTbYqWxk",
        "colab": {
          "base_uri": "https://localhost:8080/",
          "height": 579
        },
        "outputId": "5fdebece-03e0-439e-92df-7b54a3827f41"
      },
      "source": [
        "a=model.fit(X_train, score, epochs=15,batch_size=256, validation_data=[X_test, testscore])"
      ],
      "execution_count": null,
      "outputs": [
        {
          "output_type": "stream",
          "text": [
            "Train on 120000 samples, validate on 50000 samples\n",
            "Epoch 1/15\n",
            "120000/120000 [==============================] - 13s 104us/sample - loss: 0.9445 - acc: 0.7489 - val_loss: 0.6100 - val_acc: 0.8367\n",
            "Epoch 2/15\n",
            "120000/120000 [==============================] - 11s 95us/sample - loss: 0.5293 - acc: 0.8213 - val_loss: 0.3456 - val_acc: 0.9290\n",
            "Epoch 3/15\n",
            "120000/120000 [==============================] - 11s 94us/sample - loss: 0.3567 - acc: 0.9050 - val_loss: 0.2585 - val_acc: 0.9381\n",
            "Epoch 4/15\n",
            "120000/120000 [==============================] - 11s 93us/sample - loss: 0.2947 - acc: 0.9172 - val_loss: 0.2245 - val_acc: 0.9431\n",
            "Epoch 5/15\n",
            "120000/120000 [==============================] - 12s 96us/sample - loss: 0.2649 - acc: 0.9259 - val_loss: 0.2051 - val_acc: 0.9468\n",
            "Epoch 6/15\n",
            "120000/120000 [==============================] - 11s 94us/sample - loss: 0.2464 - acc: 0.9304 - val_loss: 0.1935 - val_acc: 0.9490\n",
            "Epoch 7/15\n",
            "120000/120000 [==============================] - 11s 96us/sample - loss: 0.2345 - acc: 0.9341 - val_loss: 0.1845 - val_acc: 0.9508\n",
            "Epoch 8/15\n",
            "120000/120000 [==============================] - 11s 94us/sample - loss: 0.2246 - acc: 0.9366 - val_loss: 0.1754 - val_acc: 0.9535\n",
            "Epoch 9/15\n",
            "120000/120000 [==============================] - 11s 94us/sample - loss: 0.2165 - acc: 0.9389 - val_loss: 0.1701 - val_acc: 0.9542\n",
            "Epoch 10/15\n",
            "120000/120000 [==============================] - 11s 94us/sample - loss: 0.2098 - acc: 0.9415 - val_loss: 0.1637 - val_acc: 0.9562\n",
            "Epoch 11/15\n",
            "120000/120000 [==============================] - 11s 95us/sample - loss: 0.2044 - acc: 0.9428 - val_loss: 0.1587 - val_acc: 0.9576\n",
            "Epoch 12/15\n",
            "120000/120000 [==============================] - 11s 93us/sample - loss: 0.1989 - acc: 0.9444 - val_loss: 0.1556 - val_acc: 0.9579\n",
            "Epoch 13/15\n",
            "120000/120000 [==============================] - 11s 95us/sample - loss: 0.1940 - acc: 0.9461 - val_loss: 0.1539 - val_acc: 0.9584\n",
            "Epoch 14/15\n",
            "120000/120000 [==============================] - 11s 94us/sample - loss: 0.1900 - acc: 0.9474 - val_loss: 0.1512 - val_acc: 0.9592\n",
            "Epoch 15/15\n",
            "120000/120000 [==============================] - 11s 95us/sample - loss: 0.1847 - acc: 0.9489 - val_loss: 0.1446 - val_acc: 0.9612\n"
          ],
          "name": "stdout"
        }
      ]
    },
    {
      "cell_type": "code",
      "metadata": {
        "id": "e7_u3qOrQgcT",
        "colab": {
          "base_uri": "https://localhost:8080/",
          "height": 52
        },
        "outputId": "827674ae-be76-46c1-80a9-f68a471a0869"
      },
      "source": [
        "model.evaluate(X_test,testscore,batch_size=32)"
      ],
      "execution_count": null,
      "outputs": [
        {
          "output_type": "stream",
          "text": [
            "50000/50000 [==============================] - 9s 172us/sample - loss: 0.1446 - acc: 0.9612\n"
          ],
          "name": "stdout"
        },
        {
          "output_type": "execute_result",
          "data": {
            "text/plain": [
              "[0.14457092921972275, 0.96116]"
            ]
          },
          "metadata": {
            "tags": []
          },
          "execution_count": 27
        }
      ]
    },
    {
      "cell_type": "code",
      "metadata": {
        "id": "M_xy7Nct48tZ",
        "colab": {
          "base_uri": "https://localhost:8080/",
          "height": 283
        },
        "outputId": "4d49acb8-3326-43f0-b124-8d7a26cf1145"
      },
      "source": [
        "val_acc = a.history['val_acc']\n",
        "train_acc = a.history['acc']\n",
        "epoch_count = range(1, len(val_acc) + 1)\n",
        "plt.plot(epoch_count, train_acc, 'b')\n",
        "plt.plot(epoch_count, val_acc, 'r')\n",
        "plt.legend(['Training Accuracy', 'Test Accuracy'])\n",
        "plt.xlabel('Epoch')\n",
        "plt.ylabel('Accuracy')\n",
        "plt.show();"
      ],
      "execution_count": null,
      "outputs": [
        {
          "output_type": "display_data",
          "data": {
            "image/png": "[encoded data removed]",
            "text/plain": [
              "<Figure size 432x288 with 1 Axes>"
            ]
          },
          "metadata": {
            "tags": []
          }
        }
      ]
    },
    {
      "cell_type": "code",
      "metadata": {
        "id": "PsFLc6RH6yUj",
        "colab": {
          "base_uri": "https://localhost:8080/",
          "height": 283
        },
        "outputId": "89499ce7-23a6-4fce-daf1-e25c5f3c1d8f"
      },
      "source": [
        "training_loss = a.history['loss']\n",
        "val_loss = a.history['val_loss']\n",
        "epoch_count = range(1, len(val_loss) + 1)\n",
        "plt.plot(epoch_count, val_loss, 'b')\n",
        "plt.plot(epoch_count, training_loss, 'r')\n",
        "plt.legend(['Validation Loss', 'Training Loss'])\n",
        "plt.xlabel('Epoch')\n",
        "plt.ylabel('Loss')\n",
        "plt.show();"
      ],
      "execution_count": null,
      "outputs": [
        {
          "output_type": "display_data",
          "data": {
            "image/png": "[encoded data removed]",
            "text/plain": [
              "<Figure size 432x288 with 1 Axes>"
            ]
          },
          "metadata": {
            "tags": []
          }
        }
      ]
    },
    {
      "cell_type": "code",
      "metadata": {
        "id": "ECOOwN6vOrE7",
        "colab": {
          "base_uri": "https://localhost:8080/",
          "height": 69
        },
        "outputId": "51ff6272-645e-462d-84a2-2b664dfd33ce"
      },
      "source": [
        "def process(a):\n",
        "  v=vectorizer.transform([a]).toarray()\n",
        "  v=v.reshape(1,1,features)\n",
        "  return v\n",
        "\n",
        "string = input('Enter a review: ')\n",
        "a = model.predict(process(string),batch_size=1,verbose = 0)\n",
        "print(a)\n",
        "if(a[0]>0.5):\n",
        "  print(\"Positive review\")\n",
        "else:\n",
        "  print(\"Negative review\")"
      ],
      "execution_count": null,
      "outputs": [
        {
          "output_type": "stream",
          "text": [
            "Enter a review: the candles were exquisite\n",
            "[[[0.85550344]]]\n",
            "Positive review\n"
          ],
          "name": "stdout"
        }
      ]
    },
    {
      "cell_type": "code",
      "metadata": {
        "id": "iwg2ZoTdOw4p"
      },
      "source": [
        "model.save('drive/My Drive/model')"
      ],
      "execution_count": null,
      "outputs": []
    },
    {
      "cell_type": "code",
      "metadata": {
        "id": "v562yiO4hvMq"
      },
      "source": [
        "from tensorflow.keras.models import load_model\n",
        "model = load_model('drive/My Drive/model')"
      ],
      "execution_count": null,
      "outputs": []
    },
    {
      "cell_type": "code",
      "metadata": {
        "id": "aC5cJiblVXaV"
      },
      "source": [
        "print(text[0])\n",
        "print(textarray[0])"
      ],
      "execution_count": null,
      "outputs": []
    }
  ]
}